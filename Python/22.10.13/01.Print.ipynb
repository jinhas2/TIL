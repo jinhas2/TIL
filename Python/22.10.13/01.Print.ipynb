{
 "cells": [
  {
   "cell_type": "markdown",
   "id": "0ae56d79",
   "metadata": {},
   "source": [
    "# 파이썬의 기초 문법 Print"
   ]
  },
  {
   "cell_type": "code",
   "execution_count": 5,
   "id": "8302406c",
   "metadata": {},
   "outputs": [
    {
     "name": "stdout",
     "output_type": "stream",
     "text": [
      "Hello World\n"
     ]
    }
   ],
   "source": [
    "print(\"Hello World\")"
   ]
  },
  {
   "cell_type": "code",
   "execution_count": 6,
   "id": "3afbbd97",
   "metadata": {},
   "outputs": [
    {
     "name": "stdout",
     "output_type": "stream",
     "text": [
      "Hello \"안녕하세요\"\n"
     ]
    }
   ],
   "source": [
    "print('Hello \"안녕하세요\"')"
   ]
  },
  {
   "cell_type": "code",
   "execution_count": 7,
   "id": "9249db8d",
   "metadata": {},
   "outputs": [
    {
     "name": "stdout",
     "output_type": "stream",
     "text": [
      "Hello '안녕하세요'\n"
     ]
    }
   ],
   "source": [
    "print(\"Hello '안녕하세요'\")"
   ]
  },
  {
   "cell_type": "code",
   "execution_count": 8,
   "id": "c7d9c579",
   "metadata": {},
   "outputs": [
    {
     "name": "stdout",
     "output_type": "stream",
     "text": [
      "안녕 하세요 반갑습니다.\n"
     ]
    }
   ],
   "source": [
    "print('안녕', '하세요','반갑습니다.')"
   ]
  },
  {
   "cell_type": "code",
   "execution_count": 9,
   "id": "e8c10350",
   "metadata": {},
   "outputs": [
    {
     "name": "stdout",
     "output_type": "stream",
     "text": [
      "안녕하세요반갑습니다.\n"
     ]
    }
   ],
   "source": [
    "print('안녕'+'하세요'+'반갑습니다.')"
   ]
  },
  {
   "cell_type": "code",
   "execution_count": 10,
   "id": "7f0fc1b9",
   "metadata": {},
   "outputs": [
    {
     "name": "stdout",
     "output_type": "stream",
     "text": [
      "\n",
      "태양을 향해서라\n",
      "그리하면 너는 그림자를 볼 수 없을 것이다.\n",
      "\n",
      "-헬렌켈러 \n",
      "\n",
      "\n"
     ]
    }
   ],
   "source": [
    "print(\"\"\"\n",
    "태양을 향해서라\n",
    "그리하면 너는 그림자를 볼 수 없을 것이다.\n",
    "\n",
    "-헬렌켈러 \n",
    "\n",
    "\"\"\") #문장이 그대로 출력된다. 많은 텐스트를 사용하고자 할 때 적합. "
   ]
  },
  {
   "cell_type": "code",
   "execution_count": 12,
   "id": "ac2bcc8e",
   "metadata": {},
   "outputs": [
    {
     "name": "stdout",
     "output_type": "stream",
     "text": [
      "Hello \n",
      "nice to meet you ^^\n"
     ]
    }
   ],
   "source": [
    "print('Hello \\nnice to meet you ^^') # \\n 은 뉴라인 문자. 개행이 되어서 출력. "
   ]
  },
  {
   "cell_type": "code",
   "execution_count": 14,
   "id": "a4c2c7e7",
   "metadata": {},
   "outputs": [
    {
     "name": "stdout",
     "output_type": "stream",
     "text": [
      "a값: 123, b값: 안녕하세요\n",
      "a값: 123, b값: 안녕하세요\n",
      "a=123 b=안녕하세요\n"
     ]
    }
   ],
   "source": [
    "a = 123\n",
    "b = '안녕하세요'\n",
    "\n",
    "print(\"a값: {}, b값: {}\".format(a,b)) # 많은 사람들이 선호하는 방법. \n",
    "print(f\"a값: {a}, b값: {b}\")\n",
    "\n",
    "print('a={} b={}'.format(a,b))"
   ]
  },
  {
   "cell_type": "code",
   "execution_count": null,
   "id": "74ff213c",
   "metadata": {},
   "outputs": [],
   "source": []
  }
 ],
 "metadata": {
  "kernelspec": {
   "display_name": "Python 3 (ipykernel)",
   "language": "python",
   "name": "python3"
  },
  "language_info": {
   "codemirror_mode": {
    "name": "ipython",
    "version": 3
   },
   "file_extension": ".py",
   "mimetype": "text/x-python",
   "name": "python",
   "nbconvert_exporter": "python",
   "pygments_lexer": "ipython3",
   "version": "3.9.12"
  }
 },
 "nbformat": 4,
 "nbformat_minor": 5
}
